{
  "cells": [
    {
      "cell_type": "markdown",
      "metadata": {
        "id": "view-in-github",
        "colab_type": "text"
      },
      "source": [
        "<a href=\"https://colab.research.google.com/github/Ayxux/NLP_Minor_Project/blob/main/Notebook/fake_news_nlp-pipeline.ipynb\" target=\"_parent\"><img src=\"https://colab.research.google.com/assets/colab-badge.svg\" alt=\"Open In Colab\"/></a>"
      ]
    },
    {
      "cell_type": "code",
      "source": [
        "!git clone https://github.com/Ayxux/NLP_Minor_Project"
      ],
      "metadata": {
        "colab": {
          "base_uri": "https://localhost:8080/"
        },
        "id": "QWEWyxv6s7Ts",
        "outputId": "3f7ce35f-606d-47e2-e112-e62499471ce9"
      },
      "id": "QWEWyxv6s7Ts",
      "execution_count": 2,
      "outputs": [
        {
          "output_type": "stream",
          "name": "stdout",
          "text": [
            "Cloning into 'NLP_Minor_Project'...\n",
            "remote: Enumerating objects: 34, done.\u001b[K\n",
            "remote: Counting objects: 100% (34/34), done.\u001b[K\n",
            "remote: Compressing objects: 100% (34/34), done.\u001b[K\n",
            "remote: Total 34 (delta 14), reused 0 (delta 0), pack-reused 0 (from 0)\u001b[K\n",
            "Receiving objects: 100% (34/34), 15.36 KiB | 15.36 MiB/s, done.\n",
            "Resolving deltas: 100% (14/14), done.\n",
            "fatal: destination path 'NLP_Minor_Project' already exists and is not an empty directory.\n"
          ]
        }
      ]
    },
    {
      "cell_type": "code",
      "source": [
        "%cd /content/NLP_Minor_Project/\n",
        "\n"
      ],
      "metadata": {
        "colab": {
          "base_uri": "https://localhost:8080/"
        },
        "id": "U7sG_nqptpZa",
        "outputId": "0e559dbb-9c15-487c-9e33-9807d51ce111"
      },
      "id": "U7sG_nqptpZa",
      "execution_count": 3,
      "outputs": [
        {
          "output_type": "stream",
          "name": "stdout",
          "text": [
            "/content/NLP_Minor_Project\n"
          ]
        }
      ]
    },
    {
      "cell_type": "code",
      "source": [
        "from google.colab import drive\n",
        "drive.mount('/content/drive')\n"
      ],
      "metadata": {
        "colab": {
          "base_uri": "https://localhost:8080/"
        },
        "id": "KLUEogCxt2vQ",
        "outputId": "21483383-4e78-4389-b563-8cd6b0da9b7a"
      },
      "id": "KLUEogCxt2vQ",
      "execution_count": 4,
      "outputs": [
        {
          "output_type": "stream",
          "name": "stdout",
          "text": [
            "Mounted at /content/drive\n"
          ]
        }
      ]
    },
    {
      "cell_type": "code",
      "source": [
        "%cd /content/drive/MyDrive/data/fake_news"
      ],
      "metadata": {
        "id": "Sb-hrvNLu7cV",
        "outputId": "3f28b8af-f4ce-415e-c1bf-b27005285077",
        "colab": {
          "base_uri": "https://localhost:8080/"
        }
      },
      "id": "Sb-hrvNLu7cV",
      "execution_count": 13,
      "outputs": [
        {
          "output_type": "stream",
          "name": "stdout",
          "text": [
            "/content/drive/MyDrive/data/fake_news\n"
          ]
        }
      ]
    },
    {
      "cell_type": "code",
      "source": [
        "import os\n",
        "os.listdir('/content/drive/MyDrive/data/fake_news')\n"
      ],
      "metadata": {
        "id": "LmbVs3icyQM-",
        "outputId": "212944be-1296-47b2-8784-44a05c0365d3",
        "colab": {
          "base_uri": "https://localhost:8080/"
        }
      },
      "id": "LmbVs3icyQM-",
      "execution_count": 15,
      "outputs": [
        {
          "output_type": "execute_result",
          "data": {
            "text/plain": [
              "['submit.csv', 'test.csv', 'train.csv']"
            ]
          },
          "metadata": {},
          "execution_count": 15
        }
      ]
    },
    {
      "cell_type": "code",
      "source": [],
      "metadata": {
        "id": "s5XNreBeyTug"
      },
      "id": "s5XNreBeyTug",
      "execution_count": null,
      "outputs": []
    }
  ],
  "metadata": {
    "kernelspec": {
      "display_name": "Python 3",
      "name": "python3"
    },
    "language_info": {
      "name": "python"
    },
    "required_libs": [],
    "colab": {
      "provenance": [],
      "gpuType": "T4",
      "include_colab_link": true
    },
    "accelerator": "GPU"
  },
  "nbformat": 4,
  "nbformat_minor": 5
}