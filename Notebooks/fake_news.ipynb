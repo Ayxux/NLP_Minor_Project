{
  "cells": [
    {
      "cell_type": "markdown",
      "metadata": {
        "id": "view-in-github",
        "colab_type": "text"
      },
      "source": [
        "<a href=\"https://colab.research.google.com/github/Ayxux/NLP_Minor_Project/blob/main/Notebooks/fake_news.ipynb\" target=\"_parent\"><img src=\"https://colab.research.google.com/assets/colab-badge.svg\" alt=\"Open In Colab\"/></a>"
      ]
    },
    {
      "cell_type": "code",
      "source": [
        "!git clone https://github.com/Ayxux/NLP_Minor_Project"
      ],
      "metadata": {
        "id": "QWEWyxv6s7Ts",
        "outputId": "3f7ce35f-606d-47e2-e112-e62499471ce9",
        "colab": {
          "base_uri": "https://localhost:8080/"
        }
      },
      "id": "QWEWyxv6s7Ts",
      "execution_count": 2,
      "outputs": [
        {
          "output_type": "stream",
          "name": "stdout",
          "text": [
            "Cloning into 'NLP_Minor_Project'...\n",
            "remote: Enumerating objects: 34, done.\u001b[K\n",
            "remote: Counting objects: 100% (34/34), done.\u001b[K\n",
            "remote: Compressing objects: 100% (34/34), done.\u001b[K\n",
            "remote: Total 34 (delta 14), reused 0 (delta 0), pack-reused 0 (from 0)\u001b[K\n",
            "Receiving objects: 100% (34/34), 15.36 KiB | 15.36 MiB/s, done.\n",
            "Resolving deltas: 100% (14/14), done.\n",
            "fatal: destination path 'NLP_Minor_Project' already exists and is not an empty directory.\n"
          ]
        }
      ]
    },
    {
      "cell_type": "code",
      "source": [
        "%cd /content/NLP_Minor_Project/\n",
        "\n"
      ],
      "metadata": {
        "id": "U7sG_nqptpZa",
        "outputId": "0e559dbb-9c15-487c-9e33-9807d51ce111",
        "colab": {
          "base_uri": "https://localhost:8080/"
        }
      },
      "id": "U7sG_nqptpZa",
      "execution_count": 3,
      "outputs": [
        {
          "output_type": "stream",
          "name": "stdout",
          "text": [
            "/content/NLP_Minor_Project\n"
          ]
        }
      ]
    },
    {
      "cell_type": "code",
      "source": [],
      "metadata": {
        "id": "KLUEogCxt2vQ"
      },
      "id": "KLUEogCxt2vQ",
      "execution_count": null,
      "outputs": []
    }
  ],
  "metadata": {
    "kernelspec": {
      "display_name": "Python 3",
      "name": "python3"
    },
    "language_info": {
      "name": "python"
    },
    "required_libs": [],
    "colab": {
      "provenance": [],
      "gpuType": "T4",
      "include_colab_link": true
    },
    "accelerator": "GPU"
  },
  "nbformat": 4,
  "nbformat_minor": 5
}